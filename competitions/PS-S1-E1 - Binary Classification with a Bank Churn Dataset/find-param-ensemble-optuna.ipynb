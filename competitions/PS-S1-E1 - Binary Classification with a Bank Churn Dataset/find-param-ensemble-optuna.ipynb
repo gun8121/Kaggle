{
 "cells": [
  {
   "cell_type": "code",
   "execution_count": 1,
   "id": "ced835a3",
   "metadata": {
    "_cell_guid": "b1076dfc-b9ad-4769-8c92-a6c4dae69d19",
    "_uuid": "8f2839f25d086af736a60e9eeb907d3b93b6e0e5",
    "execution": {
     "iopub.execute_input": "2024-01-31T09:57:03.015347Z",
     "iopub.status.busy": "2024-01-31T09:57:03.014840Z",
     "iopub.status.idle": "2024-01-31T09:57:03.027795Z",
     "shell.execute_reply": "2024-01-31T09:57:03.026811Z"
    },
    "papermill": {
     "duration": 0.026266,
     "end_time": "2024-01-31T09:57:03.030291",
     "exception": false,
     "start_time": "2024-01-31T09:57:03.004025",
     "status": "completed"
    },
    "tags": []
   },
   "outputs": [],
   "source": [
    "import warnings\n",
    "warnings.filterwarnings(\"ignore\")"
   ]
  },
  {
   "cell_type": "code",
   "execution_count": 2,
   "id": "de1b388f",
   "metadata": {
    "execution": {
     "iopub.execute_input": "2024-01-31T09:57:03.048814Z",
     "iopub.status.busy": "2024-01-31T09:57:03.048447Z",
     "iopub.status.idle": "2024-01-31T09:57:07.382049Z",
     "shell.execute_reply": "2024-01-31T09:57:07.380591Z"
    },
    "papermill": {
     "duration": 4.346291,
     "end_time": "2024-01-31T09:57:07.385069",
     "exception": false,
     "start_time": "2024-01-31T09:57:03.038778",
     "status": "completed"
    },
    "tags": []
   },
   "outputs": [],
   "source": [
    "from sklearn.feature_extraction.text import TfidfVectorizer\n",
    "from sklearn.model_selection import train_test_split\n",
    "from sklearn.model_selection import StratifiedKFold\n",
    "from sklearn.decomposition import TruncatedSVD\n",
    "from sklearn.metrics import roc_auc_score\n",
    "\n",
    "\n",
    "from catboost import CatBoostClassifier, Pool\n",
    "from catboost.utils import eval_metric\n",
    "\n",
    "\n",
    "\n",
    "import matplotlib.pyplot as plt\n",
    "import lightgbm as lgb\n",
    "import pandas as pd\n",
    "import numpy as np"
   ]
  },
  {
   "cell_type": "code",
   "execution_count": 3,
   "id": "7440e64d",
   "metadata": {
    "execution": {
     "iopub.execute_input": "2024-01-31T09:57:07.403931Z",
     "iopub.status.busy": "2024-01-31T09:57:07.403270Z",
     "iopub.status.idle": "2024-01-31T09:57:07.936761Z",
     "shell.execute_reply": "2024-01-31T09:57:07.935610Z"
    },
    "papermill": {
     "duration": 0.545968,
     "end_time": "2024-01-31T09:57:07.939529",
     "exception": false,
     "start_time": "2024-01-31T09:57:07.393561",
     "status": "completed"
    },
    "tags": []
   },
   "outputs": [
    {
     "data": {
      "text/html": [
       "<div>\n",
       "<style scoped>\n",
       "    .dataframe tbody tr th:only-of-type {\n",
       "        vertical-align: middle;\n",
       "    }\n",
       "\n",
       "    .dataframe tbody tr th {\n",
       "        vertical-align: top;\n",
       "    }\n",
       "\n",
       "    .dataframe thead th {\n",
       "        text-align: right;\n",
       "    }\n",
       "</style>\n",
       "<table border=\"1\" class=\"dataframe\">\n",
       "  <thead>\n",
       "    <tr style=\"text-align: right;\">\n",
       "      <th></th>\n",
       "      <th>id</th>\n",
       "      <th>CustomerId</th>\n",
       "      <th>Surname</th>\n",
       "      <th>CreditScore</th>\n",
       "      <th>Geography</th>\n",
       "      <th>Gender</th>\n",
       "      <th>Age</th>\n",
       "      <th>Tenure</th>\n",
       "      <th>Balance</th>\n",
       "      <th>NumOfProducts</th>\n",
       "      <th>HasCrCard</th>\n",
       "      <th>IsActiveMember</th>\n",
       "      <th>EstimatedSalary</th>\n",
       "      <th>Exited</th>\n",
       "    </tr>\n",
       "  </thead>\n",
       "  <tbody>\n",
       "    <tr>\n",
       "      <th>0</th>\n",
       "      <td>0</td>\n",
       "      <td>15674932</td>\n",
       "      <td>Okwudilichukwu</td>\n",
       "      <td>668</td>\n",
       "      <td>France</td>\n",
       "      <td>Male</td>\n",
       "      <td>33.0</td>\n",
       "      <td>3</td>\n",
       "      <td>0.00</td>\n",
       "      <td>2</td>\n",
       "      <td>1.0</td>\n",
       "      <td>0.0</td>\n",
       "      <td>181449.97</td>\n",
       "      <td>0</td>\n",
       "    </tr>\n",
       "    <tr>\n",
       "      <th>1</th>\n",
       "      <td>1</td>\n",
       "      <td>15749177</td>\n",
       "      <td>Okwudiliolisa</td>\n",
       "      <td>627</td>\n",
       "      <td>France</td>\n",
       "      <td>Male</td>\n",
       "      <td>33.0</td>\n",
       "      <td>1</td>\n",
       "      <td>0.00</td>\n",
       "      <td>2</td>\n",
       "      <td>1.0</td>\n",
       "      <td>1.0</td>\n",
       "      <td>49503.50</td>\n",
       "      <td>0</td>\n",
       "    </tr>\n",
       "    <tr>\n",
       "      <th>2</th>\n",
       "      <td>2</td>\n",
       "      <td>15694510</td>\n",
       "      <td>Hsueh</td>\n",
       "      <td>678</td>\n",
       "      <td>France</td>\n",
       "      <td>Male</td>\n",
       "      <td>40.0</td>\n",
       "      <td>10</td>\n",
       "      <td>0.00</td>\n",
       "      <td>2</td>\n",
       "      <td>1.0</td>\n",
       "      <td>0.0</td>\n",
       "      <td>184866.69</td>\n",
       "      <td>0</td>\n",
       "    </tr>\n",
       "    <tr>\n",
       "      <th>3</th>\n",
       "      <td>3</td>\n",
       "      <td>15741417</td>\n",
       "      <td>Kao</td>\n",
       "      <td>581</td>\n",
       "      <td>France</td>\n",
       "      <td>Male</td>\n",
       "      <td>34.0</td>\n",
       "      <td>2</td>\n",
       "      <td>148882.54</td>\n",
       "      <td>1</td>\n",
       "      <td>1.0</td>\n",
       "      <td>1.0</td>\n",
       "      <td>84560.88</td>\n",
       "      <td>0</td>\n",
       "    </tr>\n",
       "    <tr>\n",
       "      <th>4</th>\n",
       "      <td>4</td>\n",
       "      <td>15766172</td>\n",
       "      <td>Chiemenam</td>\n",
       "      <td>716</td>\n",
       "      <td>Spain</td>\n",
       "      <td>Male</td>\n",
       "      <td>33.0</td>\n",
       "      <td>5</td>\n",
       "      <td>0.00</td>\n",
       "      <td>2</td>\n",
       "      <td>1.0</td>\n",
       "      <td>1.0</td>\n",
       "      <td>15068.83</td>\n",
       "      <td>0</td>\n",
       "    </tr>\n",
       "  </tbody>\n",
       "</table>\n",
       "</div>"
      ],
      "text/plain": [
       "   id  CustomerId         Surname  CreditScore Geography Gender   Age  Tenure  \\\n",
       "0   0    15674932  Okwudilichukwu          668    France   Male  33.0       3   \n",
       "1   1    15749177   Okwudiliolisa          627    France   Male  33.0       1   \n",
       "2   2    15694510           Hsueh          678    France   Male  40.0      10   \n",
       "3   3    15741417             Kao          581    France   Male  34.0       2   \n",
       "4   4    15766172       Chiemenam          716     Spain   Male  33.0       5   \n",
       "\n",
       "     Balance  NumOfProducts  HasCrCard  IsActiveMember  EstimatedSalary  \\\n",
       "0       0.00              2        1.0             0.0        181449.97   \n",
       "1       0.00              2        1.0             1.0         49503.50   \n",
       "2       0.00              2        1.0             0.0        184866.69   \n",
       "3  148882.54              1        1.0             1.0         84560.88   \n",
       "4       0.00              2        1.0             1.0         15068.83   \n",
       "\n",
       "   Exited  \n",
       "0       0  \n",
       "1       0  \n",
       "2       0  \n",
       "3       0  \n",
       "4       0  "
      ]
     },
     "execution_count": 3,
     "metadata": {},
     "output_type": "execute_result"
    }
   ],
   "source": [
    "df_train = pd.read_csv('/kaggle/input/playground-series-s4e1/train.csv')\n",
    "df_train.head()"
   ]
  },
  {
   "cell_type": "code",
   "execution_count": 4,
   "id": "55044f47",
   "metadata": {
    "execution": {
     "iopub.execute_input": "2024-01-31T09:57:07.958816Z",
     "iopub.status.busy": "2024-01-31T09:57:07.958444Z",
     "iopub.status.idle": "2024-01-31T09:57:08.290316Z",
     "shell.execute_reply": "2024-01-31T09:57:08.288839Z"
    },
    "papermill": {
     "duration": 0.346365,
     "end_time": "2024-01-31T09:57:08.294737",
     "exception": false,
     "start_time": "2024-01-31T09:57:07.948372",
     "status": "completed"
    },
    "tags": []
   },
   "outputs": [
    {
     "data": {
      "text/html": [
       "<div>\n",
       "<style scoped>\n",
       "    .dataframe tbody tr th:only-of-type {\n",
       "        vertical-align: middle;\n",
       "    }\n",
       "\n",
       "    .dataframe tbody tr th {\n",
       "        vertical-align: top;\n",
       "    }\n",
       "\n",
       "    .dataframe thead th {\n",
       "        text-align: right;\n",
       "    }\n",
       "</style>\n",
       "<table border=\"1\" class=\"dataframe\">\n",
       "  <thead>\n",
       "    <tr style=\"text-align: right;\">\n",
       "      <th></th>\n",
       "      <th>id</th>\n",
       "      <th>CustomerId</th>\n",
       "      <th>Surname</th>\n",
       "      <th>CreditScore</th>\n",
       "      <th>Geography</th>\n",
       "      <th>Gender</th>\n",
       "      <th>Age</th>\n",
       "      <th>Tenure</th>\n",
       "      <th>Balance</th>\n",
       "      <th>NumOfProducts</th>\n",
       "      <th>HasCrCard</th>\n",
       "      <th>IsActiveMember</th>\n",
       "      <th>EstimatedSalary</th>\n",
       "    </tr>\n",
       "  </thead>\n",
       "  <tbody>\n",
       "    <tr>\n",
       "      <th>0</th>\n",
       "      <td>165034</td>\n",
       "      <td>15773898</td>\n",
       "      <td>Lucchese</td>\n",
       "      <td>586</td>\n",
       "      <td>France</td>\n",
       "      <td>Female</td>\n",
       "      <td>23.0</td>\n",
       "      <td>2</td>\n",
       "      <td>0.00</td>\n",
       "      <td>2</td>\n",
       "      <td>0.0</td>\n",
       "      <td>1.0</td>\n",
       "      <td>160976.75</td>\n",
       "    </tr>\n",
       "    <tr>\n",
       "      <th>1</th>\n",
       "      <td>165035</td>\n",
       "      <td>15782418</td>\n",
       "      <td>Nott</td>\n",
       "      <td>683</td>\n",
       "      <td>France</td>\n",
       "      <td>Female</td>\n",
       "      <td>46.0</td>\n",
       "      <td>2</td>\n",
       "      <td>0.00</td>\n",
       "      <td>1</td>\n",
       "      <td>1.0</td>\n",
       "      <td>0.0</td>\n",
       "      <td>72549.27</td>\n",
       "    </tr>\n",
       "    <tr>\n",
       "      <th>2</th>\n",
       "      <td>165036</td>\n",
       "      <td>15807120</td>\n",
       "      <td>K?</td>\n",
       "      <td>656</td>\n",
       "      <td>France</td>\n",
       "      <td>Female</td>\n",
       "      <td>34.0</td>\n",
       "      <td>7</td>\n",
       "      <td>0.00</td>\n",
       "      <td>2</td>\n",
       "      <td>1.0</td>\n",
       "      <td>0.0</td>\n",
       "      <td>138882.09</td>\n",
       "    </tr>\n",
       "    <tr>\n",
       "      <th>3</th>\n",
       "      <td>165037</td>\n",
       "      <td>15808905</td>\n",
       "      <td>O'Donnell</td>\n",
       "      <td>681</td>\n",
       "      <td>France</td>\n",
       "      <td>Male</td>\n",
       "      <td>36.0</td>\n",
       "      <td>8</td>\n",
       "      <td>0.00</td>\n",
       "      <td>1</td>\n",
       "      <td>1.0</td>\n",
       "      <td>0.0</td>\n",
       "      <td>113931.57</td>\n",
       "    </tr>\n",
       "    <tr>\n",
       "      <th>4</th>\n",
       "      <td>165038</td>\n",
       "      <td>15607314</td>\n",
       "      <td>Higgins</td>\n",
       "      <td>752</td>\n",
       "      <td>Germany</td>\n",
       "      <td>Male</td>\n",
       "      <td>38.0</td>\n",
       "      <td>10</td>\n",
       "      <td>121263.62</td>\n",
       "      <td>1</td>\n",
       "      <td>1.0</td>\n",
       "      <td>0.0</td>\n",
       "      <td>139431.00</td>\n",
       "    </tr>\n",
       "  </tbody>\n",
       "</table>\n",
       "</div>"
      ],
      "text/plain": [
       "       id  CustomerId    Surname  CreditScore Geography  Gender   Age  Tenure  \\\n",
       "0  165034    15773898   Lucchese          586    France  Female  23.0       2   \n",
       "1  165035    15782418       Nott          683    France  Female  46.0       2   \n",
       "2  165036    15807120         K?          656    France  Female  34.0       7   \n",
       "3  165037    15808905  O'Donnell          681    France    Male  36.0       8   \n",
       "4  165038    15607314    Higgins          752   Germany    Male  38.0      10   \n",
       "\n",
       "     Balance  NumOfProducts  HasCrCard  IsActiveMember  EstimatedSalary  \n",
       "0       0.00              2        0.0             1.0        160976.75  \n",
       "1       0.00              1        1.0             0.0         72549.27  \n",
       "2       0.00              2        1.0             0.0        138882.09  \n",
       "3       0.00              1        1.0             0.0        113931.57  \n",
       "4  121263.62              1        1.0             0.0        139431.00  "
      ]
     },
     "execution_count": 4,
     "metadata": {},
     "output_type": "execute_result"
    }
   ],
   "source": [
    "df_test = pd.read_csv('/kaggle/input/playground-series-s4e1/test.csv')\n",
    "df_test_ov = df_test.copy()\n",
    "df_test.head()"
   ]
  },
  {
   "cell_type": "code",
   "execution_count": 5,
   "id": "3ea214fa",
   "metadata": {
    "execution": {
     "iopub.execute_input": "2024-01-31T09:57:08.315786Z",
     "iopub.status.busy": "2024-01-31T09:57:08.315390Z",
     "iopub.status.idle": "2024-01-31T09:57:08.338139Z",
     "shell.execute_reply": "2024-01-31T09:57:08.337139Z"
    },
    "papermill": {
     "duration": 0.036536,
     "end_time": "2024-01-31T09:57:08.340970",
     "exception": false,
     "start_time": "2024-01-31T09:57:08.304434",
     "status": "completed"
    },
    "tags": []
   },
   "outputs": [],
   "source": [
    "scale_cols = ['Age','CreditScore', 'Balance','EstimatedSalary']\n",
    "\n",
    "\n",
    "for c in scale_cols:\n",
    "    min_value = df_train[c].min()\n",
    "    max_value = df_train[c].max()\n",
    "    df_train[f\"{c}_scaled\"] = (df_train[c] - min_value) / (max_value - min_value)\n",
    "    df_test [f\"{c}_scaled\"] = (df_test[c]  - min_value) / (max_value - min_value)"
   ]
  },
  {
   "cell_type": "code",
   "execution_count": 6,
   "id": "211fce08",
   "metadata": {
    "execution": {
     "iopub.execute_input": "2024-01-31T09:57:08.365087Z",
     "iopub.status.busy": "2024-01-31T09:57:08.364677Z",
     "iopub.status.idle": "2024-01-31T09:57:08.372816Z",
     "shell.execute_reply": "2024-01-31T09:57:08.371594Z"
    },
    "papermill": {
     "duration": 0.020949,
     "end_time": "2024-01-31T09:57:08.375345",
     "exception": false,
     "start_time": "2024-01-31T09:57:08.354396",
     "status": "completed"
    },
    "tags": []
   },
   "outputs": [],
   "source": [
    "def getFeats(df):\n",
    "    df['IsSenior']               = df['Age'].apply(lambda x: 1 if x >= 60 else 0)\n",
    "    \n",
    "    df['IsActive_by_CreditCard'] = df['HasCrCard'] * df['IsActiveMember']\n",
    "    \n",
    "    df['Products_Per_Tenure']    = df['Tenure'] / df['NumOfProducts']\n",
    "    \n",
    "    df['AgeCat']                 = (df[\"Age\"]//20).astype('int').astype('category')\n",
    "    \n",
    "    df['Sur_Geo_Gend_Sal']       = (df['Surname'] + \n",
    "                                    df['Geography'] + \n",
    "                                    df['Gender'] + \n",
    "                                    np.round(df.EstimatedSalary).astype('str'))\n",
    "    \n",
    "    return df"
   ]
  },
  {
   "cell_type": "code",
   "execution_count": 7,
   "id": "2304b79e",
   "metadata": {
    "execution": {
     "iopub.execute_input": "2024-01-31T09:57:08.394950Z",
     "iopub.status.busy": "2024-01-31T09:57:08.394565Z",
     "iopub.status.idle": "2024-01-31T09:57:09.054582Z",
     "shell.execute_reply": "2024-01-31T09:57:09.053542Z"
    },
    "papermill": {
     "duration": 0.672939,
     "end_time": "2024-01-31T09:57:09.057310",
     "exception": false,
     "start_time": "2024-01-31T09:57:08.384371",
     "status": "completed"
    },
    "tags": []
   },
   "outputs": [],
   "source": [
    "df_train = getFeats(df_train)\n",
    "df_test  = getFeats(df_test)\n",
    "\n",
    "feat_cols = df_train.columns.drop(['id','Exited'])\n",
    "feat_cols = feat_cols.drop(scale_cols)"
   ]
  },
  {
   "cell_type": "code",
   "execution_count": 8,
   "id": "986466e4",
   "metadata": {
    "execution": {
     "iopub.execute_input": "2024-01-31T09:57:09.077016Z",
     "iopub.status.busy": "2024-01-31T09:57:09.076583Z",
     "iopub.status.idle": "2024-01-31T09:57:09.114728Z",
     "shell.execute_reply": "2024-01-31T09:57:09.113519Z"
    },
    "papermill": {
     "duration": 0.051975,
     "end_time": "2024-01-31T09:57:09.118205",
     "exception": false,
     "start_time": "2024-01-31T09:57:09.066230",
     "status": "completed"
    },
    "tags": []
   },
   "outputs": [],
   "source": [
    "X = df_train[feat_cols]\n",
    "y = df_train['Exited']\n",
    "\n",
    "cat_features = np.where(X.dtypes != np.float64)[0]"
   ]
  },
  {
   "cell_type": "code",
   "execution_count": 9,
   "id": "ca7443b1",
   "metadata": {
    "execution": {
     "iopub.execute_input": "2024-01-31T09:57:09.147868Z",
     "iopub.status.busy": "2024-01-31T09:57:09.146095Z",
     "iopub.status.idle": "2024-01-31T09:57:09.156639Z",
     "shell.execute_reply": "2024-01-31T09:57:09.155525Z"
    },
    "papermill": {
     "duration": 0.029707,
     "end_time": "2024-01-31T09:57:09.159851",
     "exception": false,
     "start_time": "2024-01-31T09:57:09.130144",
     "status": "completed"
    },
    "tags": []
   },
   "outputs": [],
   "source": [
    "# import optuna\n",
    "# from optuna.samplers import TPESampler\n",
    "\n",
    "\n",
    "\n",
    "# def objective(trial):\n",
    "        \n",
    "#     folds = StratifiedKFold(\n",
    "#         n_splits     = 5,\n",
    "#         random_state = 42,\n",
    "#         shuffle      = True\n",
    "#     )\n",
    "\n",
    "#     param = {\n",
    "#         \"iterations\"         : 1000,\n",
    "#         \"used_ram_limit\"     : \"25gb\",\n",
    "#         \"eval_metric\"        : 'AUC',\n",
    "#         \"objective\"          : 'Logloss',\n",
    "\n",
    "#         \"depth\"              : trial.suggest_int(\"depth\", 1, 15),\n",
    "#         \"min_data_in_leaf\"   : trial.suggest_int(\"min_data_in_leaf\", 1, 100),\n",
    "#         \"colsample_bylevel\"  : trial.suggest_float(\"colsample_bylevel\", 0.05, 1.0),\n",
    "#         \"learning_rate\"      : trial.suggest_float(\"learning_rate\", 1e-3, 0.1, log=True),        \n",
    "#         \"l2_leaf_reg\"        : trial.suggest_float(\"l2_leaf_reg\", 1e-8, 100.0, log=True),\n",
    "#         \"random_strength\"    : trial.suggest_float(\"random_strength\", 1e-8, 10.0, log=True),\n",
    "#         \"od_wait\"            : trial.suggest_int(\"od_wait\", 10, 50),\n",
    "\n",
    "#     }\n",
    "\n",
    "\n",
    "    \n",
    "#     auc_vals = []\n",
    "#     for n_fold, (train_idx, valid_idx) in enumerate(folds.split(X, y)):\n",
    "    \n",
    "#         X_train, y_train = X.iloc[train_idx], y.iloc[train_idx]\n",
    "#         X_val, y_val     = X.iloc[valid_idx], y.iloc[valid_idx]\n",
    "        \n",
    "\n",
    "#         train_pool = Pool(X_train, \n",
    "#                           y_train, \n",
    "#                           cat_features = cat_features)\n",
    "\n",
    "#         val_pool   = Pool(X_val, \n",
    "#                           y_val,\n",
    "#                           cat_features = cat_features)\n",
    "    \n",
    "#         clf = CatBoostClassifier(**param)\n",
    "#         clf.fit(train_pool, \n",
    "#                 eval_set              = val_pool,\n",
    "#                 verbose               = 50,\n",
    "#                 early_stopping_rounds = 100\n",
    "#         )\n",
    "\n",
    "    \n",
    "#         y_pred_val = clf.predict_proba(X_val[feat_cols])[:,1]\n",
    "#         auc_val    = roc_auc_score(y_val, y_pred_val)\n",
    "#         auc_vals.append(auc_val)\n",
    "#     return np.mean(auc_vals)\n",
    "\n",
    "\n",
    "\n",
    "\n",
    "# if __name__ == \"__main__\":\n",
    "\n",
    "\n",
    "#     study = optuna.create_study(direction=\"maximize\")\n",
    "#     study.optimize(objective, n_trials=20)\n",
    "\n",
    "#     print(\"Number of finished trials: {}\".format(len(study.trials)))\n",
    "#     print(\"Best trial:\")\n",
    "#     trial = study.best_trial\n",
    "\n",
    "#     print(\"  Value: {}\".format(trial.value))\n",
    "#     print(\"  Params: \")\n",
    "#     for key, value in trial.params.items():\n",
    "#         print(\"    {}: {}\".format(key, value))"
   ]
  },
  {
   "cell_type": "code",
   "execution_count": 10,
   "id": "e6a8d2cf",
   "metadata": {
    "execution": {
     "iopub.execute_input": "2024-01-31T09:57:09.182831Z",
     "iopub.status.busy": "2024-01-31T09:57:09.182404Z",
     "iopub.status.idle": "2024-01-31T09:57:09.187931Z",
     "shell.execute_reply": "2024-01-31T09:57:09.185894Z"
    },
    "papermill": {
     "duration": 0.019551,
     "end_time": "2024-01-31T09:57:09.191496",
     "exception": false,
     "start_time": "2024-01-31T09:57:09.171945",
     "status": "completed"
    },
    "tags": []
   },
   "outputs": [],
   "source": [
    "# bestParams = trial.params\n",
    "# print(bestParams)\n",
    "\n",
    "# {'depth': 7, 'min_data_in_leaf': 62, 'colsample_bylevel': 0.9907583019259885, 'learning_rate': 0.059637293057937336, 'l2_leaf_reg': 2.6598917320414883, 'random_strength': 2.879328229526927e-08}"
   ]
  },
  {
   "cell_type": "code",
   "execution_count": 11,
   "id": "2605c94c",
   "metadata": {
    "execution": {
     "iopub.execute_input": "2024-01-31T09:57:09.216442Z",
     "iopub.status.busy": "2024-01-31T09:57:09.215188Z",
     "iopub.status.idle": "2024-01-31T09:57:09.225654Z",
     "shell.execute_reply": "2024-01-31T09:57:09.224393Z"
    },
    "papermill": {
     "duration": 0.026935,
     "end_time": "2024-01-31T09:57:09.229129",
     "exception": false,
     "start_time": "2024-01-31T09:57:09.202194",
     "status": "completed"
    },
    "tags": []
   },
   "outputs": [
    {
     "data": {
      "text/plain": [
       "{'depth': 7,\n",
       " 'min_data_in_leaf': 62,\n",
       " 'colsample_bylevel': 0.9907583019259885,\n",
       " 'learning_rate': 0.059637293057937336,\n",
       " 'l2_leaf_reg': 2.6598917320414883,\n",
       " 'random_strength': 2.879328229526927e-08,\n",
       " 'eval_metric': 'AUC',\n",
       " 'iterations': 3500}"
      ]
     },
     "execution_count": 11,
     "metadata": {},
     "output_type": "execute_result"
    }
   ],
   "source": [
    "bestParams = {\n",
    "    **{'depth': 7, 'min_data_in_leaf': 62, 'colsample_bylevel': 0.9907583019259885, 'learning_rate': 0.059637293057937336, 'l2_leaf_reg': 2.6598917320414883, 'random_strength': 2.879328229526927e-08},\n",
    "    **{'eval_metric' : 'AUC', 'iterations' : 3500},\n",
    "}\n",
    "bestParams"
   ]
  },
  {
   "cell_type": "code",
   "execution_count": 12,
   "id": "d8123620",
   "metadata": {
    "execution": {
     "iopub.execute_input": "2024-01-31T09:57:09.254277Z",
     "iopub.status.busy": "2024-01-31T09:57:09.253869Z",
     "iopub.status.idle": "2024-01-31T11:15:32.157137Z",
     "shell.execute_reply": "2024-01-31T11:15:32.155949Z"
    },
    "papermill": {
     "duration": 4702.917661,
     "end_time": "2024-01-31T11:15:32.159848",
     "exception": false,
     "start_time": "2024-01-31T09:57:09.242187",
     "status": "completed"
    },
    "tags": []
   },
   "outputs": [
    {
     "name": "stdout",
     "output_type": "stream",
     "text": [
      "0:\ttest: 0.8792377\tbest: 0.8792377 (0)\ttotal: 371ms\tremaining: 21m 36s\n",
      "500:\ttest: 0.8973893\tbest: 0.8973893 (500)\ttotal: 2m 8s\tremaining: 12m 50s\n",
      "1000:\ttest: 0.8973894\tbest: 0.8976271 (820)\ttotal: 4m 20s\tremaining: 10m 51s\n",
      "1500:\ttest: 0.8969645\tbest: 0.8976271 (820)\ttotal: 6m 32s\tremaining: 8m 43s\n",
      "2000:\ttest: 0.8963402\tbest: 0.8976271 (820)\ttotal: 8m 47s\tremaining: 6m 34s\n",
      "2500:\ttest: 0.8958983\tbest: 0.8976271 (820)\ttotal: 11m\tremaining: 4m 23s\n",
      "3000:\ttest: 0.8953652\tbest: 0.8976271 (820)\ttotal: 13m 15s\tremaining: 2m 12s\n",
      "3499:\ttest: 0.8946370\tbest: 0.8976271 (820)\ttotal: 15m 29s\tremaining: 0us\n",
      "\n",
      "bestTest = 0.8976270672\n",
      "bestIteration = 820\n",
      "\n",
      "Shrink model to first 821 iterations.\n",
      "AUC for fold  0 :  0.8976270671917286\n",
      "----------------\n",
      "0:\ttest: 0.8799592\tbest: 0.8799592 (0)\ttotal: 348ms\tremaining: 20m 18s\n",
      "500:\ttest: 0.8977592\tbest: 0.8977738 (495)\ttotal: 2m 10s\tremaining: 13m 3s\n",
      "1000:\ttest: 0.8980102\tbest: 0.8980473 (988)\ttotal: 4m 22s\tremaining: 10m 55s\n",
      "1500:\ttest: 0.8977658\tbest: 0.8980473 (988)\ttotal: 6m 35s\tremaining: 8m 46s\n",
      "2000:\ttest: 0.8976173\tbest: 0.8980473 (988)\ttotal: 8m 50s\tremaining: 6m 37s\n",
      "2500:\ttest: 0.8974541\tbest: 0.8980473 (988)\ttotal: 11m 5s\tremaining: 4m 25s\n",
      "3000:\ttest: 0.8968748\tbest: 0.8980473 (988)\ttotal: 13m 21s\tremaining: 2m 13s\n",
      "3499:\ttest: 0.8962904\tbest: 0.8980473 (988)\ttotal: 15m 35s\tremaining: 0us\n",
      "\n",
      "bestTest = 0.8980472722\n",
      "bestIteration = 988\n",
      "\n",
      "Shrink model to first 989 iterations.\n",
      "AUC for fold  1 :  0.8980472721747292\n",
      "----------------\n",
      "0:\ttest: 0.8767062\tbest: 0.8767062 (0)\ttotal: 279ms\tremaining: 16m 16s\n",
      "500:\ttest: 0.8985979\tbest: 0.8986498 (464)\ttotal: 2m 10s\tremaining: 12m 58s\n",
      "1000:\ttest: 0.8985382\tbest: 0.8987590 (663)\ttotal: 4m 23s\tremaining: 10m 57s\n",
      "1500:\ttest: 0.8984679\tbest: 0.8987590 (663)\ttotal: 6m 38s\tremaining: 8m 50s\n",
      "2000:\ttest: 0.8982842\tbest: 0.8987590 (663)\ttotal: 8m 52s\tremaining: 6m 39s\n",
      "2500:\ttest: 0.8977757\tbest: 0.8987590 (663)\ttotal: 11m 8s\tremaining: 4m 26s\n",
      "3000:\ttest: 0.8971166\tbest: 0.8987590 (663)\ttotal: 13m 22s\tremaining: 2m 13s\n",
      "3499:\ttest: 0.8964664\tbest: 0.8987590 (663)\ttotal: 15m 38s\tremaining: 0us\n",
      "\n",
      "bestTest = 0.8987589851\n",
      "bestIteration = 663\n",
      "\n",
      "Shrink model to first 664 iterations.\n",
      "AUC for fold  2 :  0.8987589850796802\n",
      "----------------\n",
      "0:\ttest: 0.8806266\tbest: 0.8806266 (0)\ttotal: 261ms\tremaining: 15m 13s\n",
      "500:\ttest: 0.8990199\tbest: 0.8990249 (461)\ttotal: 2m 10s\tremaining: 12m 58s\n",
      "1000:\ttest: 0.8994275\tbest: 0.8994413 (992)\ttotal: 4m 22s\tremaining: 10m 55s\n",
      "1500:\ttest: 0.8992344\tbest: 0.8994747 (1202)\ttotal: 6m 36s\tremaining: 8m 47s\n",
      "2000:\ttest: 0.8989807\tbest: 0.8994747 (1202)\ttotal: 8m 51s\tremaining: 6m 38s\n",
      "2500:\ttest: 0.8987256\tbest: 0.8994747 (1202)\ttotal: 11m 6s\tremaining: 4m 26s\n",
      "3000:\ttest: 0.8981303\tbest: 0.8994747 (1202)\ttotal: 13m 22s\tremaining: 2m 13s\n",
      "3499:\ttest: 0.8977580\tbest: 0.8994747 (1202)\ttotal: 15m 38s\tremaining: 0us\n",
      "\n",
      "bestTest = 0.8994747328\n",
      "bestIteration = 1202\n",
      "\n",
      "Shrink model to first 1203 iterations.\n",
      "AUC for fold  3 :  0.8994747327670045\n",
      "----------------\n",
      "0:\ttest: 0.8771223\tbest: 0.8771223 (0)\ttotal: 281ms\tremaining: 16m 24s\n",
      "500:\ttest: 0.8957422\tbest: 0.8957606 (471)\ttotal: 2m 10s\tremaining: 13m 4s\n",
      "1000:\ttest: 0.8957739\tbest: 0.8958165 (987)\ttotal: 4m 23s\tremaining: 10m 56s\n",
      "1500:\ttest: 0.8955431\tbest: 0.8958165 (987)\ttotal: 6m 35s\tremaining: 8m 47s\n",
      "2000:\ttest: 0.8950823\tbest: 0.8958165 (987)\ttotal: 8m 49s\tremaining: 6m 37s\n",
      "2500:\ttest: 0.8947654\tbest: 0.8958165 (987)\ttotal: 11m 4s\tremaining: 4m 25s\n",
      "3000:\ttest: 0.8941129\tbest: 0.8958165 (987)\ttotal: 13m 20s\tremaining: 2m 13s\n",
      "3499:\ttest: 0.8934187\tbest: 0.8958165 (987)\ttotal: 15m 36s\tremaining: 0us\n",
      "\n",
      "bestTest = 0.8958165069\n",
      "bestIteration = 987\n",
      "\n",
      "Shrink model to first 988 iterations.\n",
      "AUC for fold  4 :  0.8958165068802916\n",
      "----------------\n"
     ]
    }
   ],
   "source": [
    "folds = StratifiedKFold(\n",
    "    n_splits     = 5,\n",
    "    random_state = 42,\n",
    "    shuffle      = True)\n",
    "\n",
    "test_preds = np.empty((5, len(df_test)))\n",
    "auc_vals=[]\n",
    "\n",
    "for n_fold, (train_idx, valid_idx) in enumerate(folds.split(X, y)):\n",
    "    \n",
    "    X_train, y_train = X.iloc[train_idx], y.iloc[train_idx]\n",
    "    X_val, y_val     = X.iloc[valid_idx], y.iloc[valid_idx]\n",
    "    \n",
    "    train_pool = Pool(X_train, \n",
    "                      y_train, \n",
    "                      cat_features = cat_features)\n",
    "    \n",
    "    val_pool   = Pool(X_val, \n",
    "                      y_val,\n",
    "                      cat_features = cat_features)\n",
    "    \n",
    "    clf = CatBoostClassifier(**bestParams)\n",
    "    \n",
    "    clf.fit(train_pool, \n",
    "            eval_set = val_pool,\n",
    "            verbose  = 500)\n",
    "    \n",
    "    y_pred_val = clf.predict_proba(X_val[feat_cols])[:,1]\n",
    "    auc_val    = roc_auc_score(y_val, y_pred_val)\n",
    "    \n",
    "    \n",
    "    print(\"AUC for fold \",n_fold,\": \",auc_val)\n",
    "    auc_vals.append(auc_val)\n",
    "    \n",
    "    y_pred_test = clf.predict_proba(df_test[feat_cols])[:,1]\n",
    "    test_preds[n_fold, :] = y_pred_test\n",
    "    print(\"----------------\")"
   ]
  },
  {
   "cell_type": "code",
   "execution_count": 13,
   "id": "072f5cc8",
   "metadata": {
    "execution": {
     "iopub.execute_input": "2024-01-31T11:15:32.189685Z",
     "iopub.status.busy": "2024-01-31T11:15:32.189288Z",
     "iopub.status.idle": "2024-01-31T11:15:32.373621Z",
     "shell.execute_reply": "2024-01-31T11:15:32.372651Z"
    },
    "papermill": {
     "duration": 0.202234,
     "end_time": "2024-01-31T11:15:32.375985",
     "exception": false,
     "start_time": "2024-01-31T11:15:32.173751",
     "status": "completed"
    },
    "tags": []
   },
   "outputs": [],
   "source": [
    "df_orig   = pd.read_csv(\"/kaggle/input/bank-customer-churn-prediction/Churn_Modelling.csv\")\n",
    "\n",
    "df_orig.rename(\n",
    "    columns = {'Exited':'Exited_Orig'},\n",
    "    inplace = True)\n",
    "\n",
    "df_orig['Exited_Orig'] = df_orig['Exited_Orig'].map({0:1,1:0})\n",
    "\n",
    "\n",
    "join_cols = list(df_orig.columns.drop(['RowNumber','Exited_Orig']))\n",
    "df_test_ov = df_test_ov.merge(\n",
    "                                df_orig,\n",
    "                                on  = join_cols,\n",
    "                                how = 'left'\n",
    "                             )[['id','Exited_Orig']].fillna(-1)\n",
    "\n",
    "df_sub = df_test_ov[['id','Exited_Orig']]"
   ]
  },
  {
   "cell_type": "code",
   "execution_count": 14,
   "id": "a798e5de",
   "metadata": {
    "execution": {
     "iopub.execute_input": "2024-01-31T11:15:32.405873Z",
     "iopub.status.busy": "2024-01-31T11:15:32.405118Z",
     "iopub.status.idle": "2024-01-31T11:15:32.420733Z",
     "shell.execute_reply": "2024-01-31T11:15:32.419532Z"
    },
    "papermill": {
     "duration": 0.033354,
     "end_time": "2024-01-31T11:15:32.423230",
     "exception": false,
     "start_time": "2024-01-31T11:15:32.389876",
     "status": "completed"
    },
    "tags": []
   },
   "outputs": [
    {
     "data": {
      "text/html": [
       "<div>\n",
       "<style scoped>\n",
       "    .dataframe tbody tr th:only-of-type {\n",
       "        vertical-align: middle;\n",
       "    }\n",
       "\n",
       "    .dataframe tbody tr th {\n",
       "        vertical-align: top;\n",
       "    }\n",
       "\n",
       "    .dataframe thead th {\n",
       "        text-align: right;\n",
       "    }\n",
       "</style>\n",
       "<table border=\"1\" class=\"dataframe\">\n",
       "  <thead>\n",
       "    <tr style=\"text-align: right;\">\n",
       "      <th></th>\n",
       "      <th>id</th>\n",
       "      <th>Exited_Orig</th>\n",
       "      <th>Exited</th>\n",
       "    </tr>\n",
       "  </thead>\n",
       "  <tbody>\n",
       "    <tr>\n",
       "      <th>0</th>\n",
       "      <td>165034</td>\n",
       "      <td>-1.0</td>\n",
       "      <td>0.011600</td>\n",
       "    </tr>\n",
       "    <tr>\n",
       "      <th>1</th>\n",
       "      <td>165035</td>\n",
       "      <td>-1.0</td>\n",
       "      <td>0.858492</td>\n",
       "    </tr>\n",
       "    <tr>\n",
       "      <th>2</th>\n",
       "      <td>165036</td>\n",
       "      <td>-1.0</td>\n",
       "      <td>0.013951</td>\n",
       "    </tr>\n",
       "    <tr>\n",
       "      <th>3</th>\n",
       "      <td>165037</td>\n",
       "      <td>-1.0</td>\n",
       "      <td>0.187841</td>\n",
       "    </tr>\n",
       "    <tr>\n",
       "      <th>4</th>\n",
       "      <td>165038</td>\n",
       "      <td>-1.0</td>\n",
       "      <td>0.406509</td>\n",
       "    </tr>\n",
       "  </tbody>\n",
       "</table>\n",
       "</div>"
      ],
      "text/plain": [
       "       id  Exited_Orig    Exited\n",
       "0  165034         -1.0  0.011600\n",
       "1  165035         -1.0  0.858492\n",
       "2  165036         -1.0  0.013951\n",
       "3  165037         -1.0  0.187841\n",
       "4  165038         -1.0  0.406509"
      ]
     },
     "execution_count": 14,
     "metadata": {},
     "output_type": "execute_result"
    }
   ],
   "source": [
    "y_pred = test_preds.mean(axis=0)\n",
    "\n",
    "df_sub['Exited'] = np.where(\n",
    "                        df_sub.Exited_Orig == -1,\n",
    "                        y_pred,\n",
    "                        df_sub.Exited_Orig)\n",
    "\n",
    "    \n",
    "    \n",
    "df_sub.head()"
   ]
  },
  {
   "cell_type": "code",
   "execution_count": 15,
   "id": "393b2cb7",
   "metadata": {
    "execution": {
     "iopub.execute_input": "2024-01-31T11:15:32.453385Z",
     "iopub.status.busy": "2024-01-31T11:15:32.452944Z",
     "iopub.status.idle": "2024-01-31T11:15:32.819536Z",
     "shell.execute_reply": "2024-01-31T11:15:32.818573Z"
    },
    "papermill": {
     "duration": 0.384667,
     "end_time": "2024-01-31T11:15:32.822126",
     "exception": false,
     "start_time": "2024-01-31T11:15:32.437459",
     "status": "completed"
    },
    "tags": []
   },
   "outputs": [],
   "source": [
    "df_sub.drop('Exited_Orig', \n",
    "            axis    = 1,\n",
    "            inplace = True)\n",
    "\n",
    "df_sub.to_csv(\"submission_base_1.csv\", index=False)\n"
   ]
  },
  {
   "cell_type": "code",
   "execution_count": 16,
   "id": "69fe58ea",
   "metadata": {
    "execution": {
     "iopub.execute_input": "2024-01-31T11:15:32.852890Z",
     "iopub.status.busy": "2024-01-31T11:15:32.851850Z",
     "iopub.status.idle": "2024-01-31T11:15:32.862659Z",
     "shell.execute_reply": "2024-01-31T11:15:32.861573Z"
    },
    "papermill": {
     "duration": 0.02889,
     "end_time": "2024-01-31T11:15:32.865174",
     "exception": false,
     "start_time": "2024-01-31T11:15:32.836284",
     "status": "completed"
    },
    "tags": []
   },
   "outputs": [
    {
     "data": {
      "text/html": [
       "<div>\n",
       "<style scoped>\n",
       "    .dataframe tbody tr th:only-of-type {\n",
       "        vertical-align: middle;\n",
       "    }\n",
       "\n",
       "    .dataframe tbody tr th {\n",
       "        vertical-align: top;\n",
       "    }\n",
       "\n",
       "    .dataframe thead th {\n",
       "        text-align: right;\n",
       "    }\n",
       "</style>\n",
       "<table border=\"1\" class=\"dataframe\">\n",
       "  <thead>\n",
       "    <tr style=\"text-align: right;\">\n",
       "      <th></th>\n",
       "      <th>id</th>\n",
       "      <th>Exited</th>\n",
       "    </tr>\n",
       "  </thead>\n",
       "  <tbody>\n",
       "    <tr>\n",
       "      <th>0</th>\n",
       "      <td>165034</td>\n",
       "      <td>0.011600</td>\n",
       "    </tr>\n",
       "    <tr>\n",
       "      <th>1</th>\n",
       "      <td>165035</td>\n",
       "      <td>0.858492</td>\n",
       "    </tr>\n",
       "    <tr>\n",
       "      <th>2</th>\n",
       "      <td>165036</td>\n",
       "      <td>0.013951</td>\n",
       "    </tr>\n",
       "    <tr>\n",
       "      <th>3</th>\n",
       "      <td>165037</td>\n",
       "      <td>0.187841</td>\n",
       "    </tr>\n",
       "    <tr>\n",
       "      <th>4</th>\n",
       "      <td>165038</td>\n",
       "      <td>0.406509</td>\n",
       "    </tr>\n",
       "  </tbody>\n",
       "</table>\n",
       "</div>"
      ],
      "text/plain": [
       "       id    Exited\n",
       "0  165034  0.011600\n",
       "1  165035  0.858492\n",
       "2  165036  0.013951\n",
       "3  165037  0.187841\n",
       "4  165038  0.406509"
      ]
     },
     "execution_count": 16,
     "metadata": {},
     "output_type": "execute_result"
    }
   ],
   "source": [
    "df_sub.head()"
   ]
  },
  {
   "cell_type": "code",
   "execution_count": 17,
   "id": "7a63cc14",
   "metadata": {
    "execution": {
     "iopub.execute_input": "2024-01-31T11:15:32.896258Z",
     "iopub.status.busy": "2024-01-31T11:15:32.895834Z",
     "iopub.status.idle": "2024-01-31T11:15:33.349464Z",
     "shell.execute_reply": "2024-01-31T11:15:33.348336Z"
    },
    "papermill": {
     "duration": 0.472905,
     "end_time": "2024-01-31T11:15:33.352253",
     "exception": false,
     "start_time": "2024-01-31T11:15:32.879348",
     "status": "completed"
    },
    "tags": []
   },
   "outputs": [],
   "source": [
    "df_ext1 = pd.read_csv('/kaggle/input/playgrounds4e01-baseline-v2/Submission_V2.csv') # 0.89651\n",
    "\n",
    "df_sub.Exited = 0.15 * df_sub.Exited + 0.85 * df_ext1.Exited\n",
    "df_sub[['id', 'Exited']].to_csv('submission_base_2.csv', index=False)"
   ]
  },
  {
   "cell_type": "code",
   "execution_count": 18,
   "id": "84c84273",
   "metadata": {
    "execution": {
     "iopub.execute_input": "2024-01-31T11:15:33.382547Z",
     "iopub.status.busy": "2024-01-31T11:15:33.382167Z",
     "iopub.status.idle": "2024-01-31T11:15:33.392662Z",
     "shell.execute_reply": "2024-01-31T11:15:33.391514Z"
    },
    "papermill": {
     "duration": 0.028948,
     "end_time": "2024-01-31T11:15:33.395304",
     "exception": false,
     "start_time": "2024-01-31T11:15:33.366356",
     "status": "completed"
    },
    "tags": []
   },
   "outputs": [
    {
     "data": {
      "text/html": [
       "<div>\n",
       "<style scoped>\n",
       "    .dataframe tbody tr th:only-of-type {\n",
       "        vertical-align: middle;\n",
       "    }\n",
       "\n",
       "    .dataframe tbody tr th {\n",
       "        vertical-align: top;\n",
       "    }\n",
       "\n",
       "    .dataframe thead th {\n",
       "        text-align: right;\n",
       "    }\n",
       "</style>\n",
       "<table border=\"1\" class=\"dataframe\">\n",
       "  <thead>\n",
       "    <tr style=\"text-align: right;\">\n",
       "      <th></th>\n",
       "      <th>id</th>\n",
       "      <th>Exited</th>\n",
       "    </tr>\n",
       "  </thead>\n",
       "  <tbody>\n",
       "    <tr>\n",
       "      <th>0</th>\n",
       "      <td>165034</td>\n",
       "      <td>0.013135</td>\n",
       "    </tr>\n",
       "    <tr>\n",
       "      <th>1</th>\n",
       "      <td>165035</td>\n",
       "      <td>0.832799</td>\n",
       "    </tr>\n",
       "    <tr>\n",
       "      <th>2</th>\n",
       "      <td>165036</td>\n",
       "      <td>0.014746</td>\n",
       "    </tr>\n",
       "    <tr>\n",
       "      <th>3</th>\n",
       "      <td>165037</td>\n",
       "      <td>0.191087</td>\n",
       "    </tr>\n",
       "    <tr>\n",
       "      <th>4</th>\n",
       "      <td>165038</td>\n",
       "      <td>0.414602</td>\n",
       "    </tr>\n",
       "  </tbody>\n",
       "</table>\n",
       "</div>"
      ],
      "text/plain": [
       "       id    Exited\n",
       "0  165034  0.013135\n",
       "1  165035  0.832799\n",
       "2  165036  0.014746\n",
       "3  165037  0.191087\n",
       "4  165038  0.414602"
      ]
     },
     "execution_count": 18,
     "metadata": {},
     "output_type": "execute_result"
    }
   ],
   "source": [
    "df_sub.head()"
   ]
  },
  {
   "cell_type": "code",
   "execution_count": 19,
   "id": "79a25e45",
   "metadata": {
    "execution": {
     "iopub.execute_input": "2024-01-31T11:15:33.425811Z",
     "iopub.status.busy": "2024-01-31T11:15:33.425443Z",
     "iopub.status.idle": "2024-01-31T11:15:33.482616Z",
     "shell.execute_reply": "2024-01-31T11:15:33.481377Z"
    },
    "papermill": {
     "duration": 0.075641,
     "end_time": "2024-01-31T11:15:33.485311",
     "exception": false,
     "start_time": "2024-01-31T11:15:33.409670",
     "status": "completed"
    },
    "tags": []
   },
   "outputs": [
    {
     "data": {
      "text/html": [
       "<div>\n",
       "<style scoped>\n",
       "    .dataframe tbody tr th:only-of-type {\n",
       "        vertical-align: middle;\n",
       "    }\n",
       "\n",
       "    .dataframe tbody tr th {\n",
       "        vertical-align: top;\n",
       "    }\n",
       "\n",
       "    .dataframe thead th {\n",
       "        text-align: right;\n",
       "    }\n",
       "</style>\n",
       "<table border=\"1\" class=\"dataframe\">\n",
       "  <thead>\n",
       "    <tr style=\"text-align: right;\">\n",
       "      <th></th>\n",
       "      <th>id</th>\n",
       "      <th>Exited</th>\n",
       "    </tr>\n",
       "  </thead>\n",
       "  <tbody>\n",
       "    <tr>\n",
       "      <th>0</th>\n",
       "      <td>165034</td>\n",
       "      <td>0.011600</td>\n",
       "    </tr>\n",
       "    <tr>\n",
       "      <th>1</th>\n",
       "      <td>165035</td>\n",
       "      <td>0.858492</td>\n",
       "    </tr>\n",
       "    <tr>\n",
       "      <th>2</th>\n",
       "      <td>165036</td>\n",
       "      <td>0.013951</td>\n",
       "    </tr>\n",
       "    <tr>\n",
       "      <th>3</th>\n",
       "      <td>165037</td>\n",
       "      <td>0.187841</td>\n",
       "    </tr>\n",
       "    <tr>\n",
       "      <th>4</th>\n",
       "      <td>165038</td>\n",
       "      <td>0.406509</td>\n",
       "    </tr>\n",
       "  </tbody>\n",
       "</table>\n",
       "</div>"
      ],
      "text/plain": [
       "       id    Exited\n",
       "0  165034  0.011600\n",
       "1  165035  0.858492\n",
       "2  165036  0.013951\n",
       "3  165037  0.187841\n",
       "4  165038  0.406509"
      ]
     },
     "execution_count": 19,
     "metadata": {},
     "output_type": "execute_result"
    }
   ],
   "source": [
    "df_ext1 = pd.read_csv('/kaggle/working/submission_base_1.csv') # 0.89644\n",
    "df_ext1.head()"
   ]
  },
  {
   "cell_type": "code",
   "execution_count": 20,
   "id": "3d88e435",
   "metadata": {
    "execution": {
     "iopub.execute_input": "2024-01-31T11:15:33.516905Z",
     "iopub.status.busy": "2024-01-31T11:15:33.516510Z",
     "iopub.status.idle": "2024-01-31T11:15:33.573248Z",
     "shell.execute_reply": "2024-01-31T11:15:33.572065Z"
    },
    "papermill": {
     "duration": 0.07535,
     "end_time": "2024-01-31T11:15:33.575832",
     "exception": false,
     "start_time": "2024-01-31T11:15:33.500482",
     "status": "completed"
    },
    "tags": []
   },
   "outputs": [
    {
     "data": {
      "text/html": [
       "<div>\n",
       "<style scoped>\n",
       "    .dataframe tbody tr th:only-of-type {\n",
       "        vertical-align: middle;\n",
       "    }\n",
       "\n",
       "    .dataframe tbody tr th {\n",
       "        vertical-align: top;\n",
       "    }\n",
       "\n",
       "    .dataframe thead th {\n",
       "        text-align: right;\n",
       "    }\n",
       "</style>\n",
       "<table border=\"1\" class=\"dataframe\">\n",
       "  <thead>\n",
       "    <tr style=\"text-align: right;\">\n",
       "      <th></th>\n",
       "      <th>id</th>\n",
       "      <th>Exited</th>\n",
       "    </tr>\n",
       "  </thead>\n",
       "  <tbody>\n",
       "    <tr>\n",
       "      <th>0</th>\n",
       "      <td>165034</td>\n",
       "      <td>0.013135</td>\n",
       "    </tr>\n",
       "    <tr>\n",
       "      <th>1</th>\n",
       "      <td>165035</td>\n",
       "      <td>0.832799</td>\n",
       "    </tr>\n",
       "    <tr>\n",
       "      <th>2</th>\n",
       "      <td>165036</td>\n",
       "      <td>0.014746</td>\n",
       "    </tr>\n",
       "    <tr>\n",
       "      <th>3</th>\n",
       "      <td>165037</td>\n",
       "      <td>0.191087</td>\n",
       "    </tr>\n",
       "    <tr>\n",
       "      <th>4</th>\n",
       "      <td>165038</td>\n",
       "      <td>0.414602</td>\n",
       "    </tr>\n",
       "  </tbody>\n",
       "</table>\n",
       "</div>"
      ],
      "text/plain": [
       "       id    Exited\n",
       "0  165034  0.013135\n",
       "1  165035  0.832799\n",
       "2  165036  0.014746\n",
       "3  165037  0.191087\n",
       "4  165038  0.414602"
      ]
     },
     "execution_count": 20,
     "metadata": {},
     "output_type": "execute_result"
    }
   ],
   "source": [
    "df_ext2 = pd.read_csv('/kaggle/working/submission_base_2.csv') # 0.89653\n",
    "df_ext2.head()"
   ]
  },
  {
   "cell_type": "code",
   "execution_count": 21,
   "id": "3ed95ce7",
   "metadata": {
    "execution": {
     "iopub.execute_input": "2024-01-31T11:15:33.608203Z",
     "iopub.status.busy": "2024-01-31T11:15:33.607788Z",
     "iopub.status.idle": "2024-01-31T11:15:33.698547Z",
     "shell.execute_reply": "2024-01-31T11:15:33.697390Z"
    },
    "papermill": {
     "duration": 0.109916,
     "end_time": "2024-01-31T11:15:33.701054",
     "exception": false,
     "start_time": "2024-01-31T11:15:33.591138",
     "status": "completed"
    },
    "tags": []
   },
   "outputs": [
    {
     "data": {
      "text/html": [
       "<div>\n",
       "<style scoped>\n",
       "    .dataframe tbody tr th:only-of-type {\n",
       "        vertical-align: middle;\n",
       "    }\n",
       "\n",
       "    .dataframe tbody tr th {\n",
       "        vertical-align: top;\n",
       "    }\n",
       "\n",
       "    .dataframe thead th {\n",
       "        text-align: right;\n",
       "    }\n",
       "</style>\n",
       "<table border=\"1\" class=\"dataframe\">\n",
       "  <thead>\n",
       "    <tr style=\"text-align: right;\">\n",
       "      <th></th>\n",
       "      <th>id</th>\n",
       "      <th>Exited</th>\n",
       "    </tr>\n",
       "  </thead>\n",
       "  <tbody>\n",
       "    <tr>\n",
       "      <th>0</th>\n",
       "      <td>165034</td>\n",
       "      <td>0.013035</td>\n",
       "    </tr>\n",
       "    <tr>\n",
       "      <th>1</th>\n",
       "      <td>165035</td>\n",
       "      <td>0.830491</td>\n",
       "    </tr>\n",
       "    <tr>\n",
       "      <th>2</th>\n",
       "      <td>165036</td>\n",
       "      <td>0.014860</td>\n",
       "    </tr>\n",
       "    <tr>\n",
       "      <th>3</th>\n",
       "      <td>165037</td>\n",
       "      <td>0.192448</td>\n",
       "    </tr>\n",
       "    <tr>\n",
       "      <th>4</th>\n",
       "      <td>165038</td>\n",
       "      <td>0.413958</td>\n",
       "    </tr>\n",
       "  </tbody>\n",
       "</table>\n",
       "</div>"
      ],
      "text/plain": [
       "       id    Exited\n",
       "0  165034  0.013035\n",
       "1  165035  0.830491\n",
       "2  165036  0.014860\n",
       "3  165037  0.192448\n",
       "4  165038  0.413958"
      ]
     },
     "execution_count": 21,
     "metadata": {},
     "output_type": "execute_result"
    }
   ],
   "source": [
    "df_ext3 = pd.read_csv('/kaggle/input/pgs41-more-lines-of-autogluon/ensemble.csv') # 0.89654\n",
    "df_ext3.head()"
   ]
  },
  {
   "cell_type": "code",
   "execution_count": 22,
   "id": "8e225414",
   "metadata": {
    "execution": {
     "iopub.execute_input": "2024-01-31T11:15:33.733699Z",
     "iopub.status.busy": "2024-01-31T11:15:33.733281Z",
     "iopub.status.idle": "2024-01-31T11:15:34.241266Z",
     "shell.execute_reply": "2024-01-31T11:15:34.240090Z"
    },
    "papermill": {
     "duration": 0.52778,
     "end_time": "2024-01-31T11:15:34.244068",
     "exception": false,
     "start_time": "2024-01-31T11:15:33.716288",
     "status": "completed"
    },
    "tags": []
   },
   "outputs": [
    {
     "data": {
      "text/html": [
       "<div>\n",
       "<style scoped>\n",
       "    .dataframe tbody tr th:only-of-type {\n",
       "        vertical-align: middle;\n",
       "    }\n",
       "\n",
       "    .dataframe tbody tr th {\n",
       "        vertical-align: top;\n",
       "    }\n",
       "\n",
       "    .dataframe thead th {\n",
       "        text-align: right;\n",
       "    }\n",
       "</style>\n",
       "<table border=\"1\" class=\"dataframe\">\n",
       "  <thead>\n",
       "    <tr style=\"text-align: right;\">\n",
       "      <th></th>\n",
       "      <th>id</th>\n",
       "      <th>Exited</th>\n",
       "    </tr>\n",
       "  </thead>\n",
       "  <tbody>\n",
       "    <tr>\n",
       "      <th>0</th>\n",
       "      <td>165034</td>\n",
       "      <td>0.013008</td>\n",
       "    </tr>\n",
       "    <tr>\n",
       "      <th>1</th>\n",
       "      <td>165035</td>\n",
       "      <td>0.832930</td>\n",
       "    </tr>\n",
       "    <tr>\n",
       "      <th>2</th>\n",
       "      <td>165036</td>\n",
       "      <td>0.014764</td>\n",
       "    </tr>\n",
       "    <tr>\n",
       "      <th>3</th>\n",
       "      <td>165037</td>\n",
       "      <td>0.191605</td>\n",
       "    </tr>\n",
       "    <tr>\n",
       "      <th>4</th>\n",
       "      <td>165038</td>\n",
       "      <td>0.413875</td>\n",
       "    </tr>\n",
       "  </tbody>\n",
       "</table>\n",
       "</div>"
      ],
      "text/plain": [
       "       id    Exited\n",
       "0  165034  0.013008\n",
       "1  165035  0.832930\n",
       "2  165036  0.014764\n",
       "3  165037  0.191605\n",
       "4  165038  0.413875"
      ]
     },
     "execution_count": 22,
     "metadata": {},
     "output_type": "execute_result"
    }
   ],
   "source": [
    "df_ext1 = pd.read_csv('/kaggle/working/submission_base_1.csv') # 0.89644\n",
    "df_ext2 = pd.read_csv('/kaggle/working/submission_base_2.csv') # 0.89653\n",
    "df_ext3 = pd.read_csv('/kaggle/input/pgs41-more-lines-of-autogluon/ensemble.csv') # 0.89654\n",
    "\n",
    "\n",
    "\n",
    "\n",
    "df_sub.Exited = (0.05 * df_ext1.Exited) + (0.45 * df_ext2.Exited) + (0.5 * df_ext3.Exited)\n",
    "df_sub[['id', 'Exited']].to_csv('submission.csv', index=False)\n",
    "df_sub.head()"
   ]
  },
  {
   "cell_type": "code",
   "execution_count": null,
   "id": "145183a5",
   "metadata": {
    "papermill": {
     "duration": 0.015881,
     "end_time": "2024-01-31T11:15:34.275972",
     "exception": false,
     "start_time": "2024-01-31T11:15:34.260091",
     "status": "completed"
    },
    "tags": []
   },
   "outputs": [],
   "source": []
  }
 ],
 "metadata": {
  "kaggle": {
   "accelerator": "none",
   "dataSources": [
    {
     "databundleVersionId": 7405009,
     "sourceId": 65711,
     "sourceType": "competition"
    },
    {
     "datasetId": 3191230,
     "sourceId": 5536933,
     "sourceType": "datasetVersion"
    },
    {
     "sourceId": 160585923,
     "sourceType": "kernelVersion"
    },
    {
     "sourceId": 160792347,
     "sourceType": "kernelVersion"
    }
   ],
   "dockerImageVersionId": 30648,
   "isGpuEnabled": false,
   "isInternetEnabled": false,
   "language": "python",
   "sourceType": "notebook"
  },
  "kernelspec": {
   "display_name": "Python 3",
   "language": "python",
   "name": "python3"
  },
  "language_info": {
   "codemirror_mode": {
    "name": "ipython",
    "version": 3
   },
   "file_extension": ".py",
   "mimetype": "text/x-python",
   "name": "python",
   "nbconvert_exporter": "python",
   "pygments_lexer": "ipython3",
   "version": "3.10.13"
  },
  "papermill": {
   "default_parameters": {},
   "duration": 4715.329955,
   "end_time": "2024-01-31T11:15:35.326872",
   "environment_variables": {},
   "exception": null,
   "input_path": "__notebook__.ipynb",
   "output_path": "__notebook__.ipynb",
   "parameters": {},
   "start_time": "2024-01-31T09:56:59.996917",
   "version": "2.5.0"
  }
 },
 "nbformat": 4,
 "nbformat_minor": 5
}
